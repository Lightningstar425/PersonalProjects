{
 "cells": [
  {
   "cell_type": "code",
   "execution_count": 67,
   "metadata": {},
   "outputs": [],
   "source": [
    "import torch"
   ]
  },
  {
   "cell_type": "code",
   "execution_count": 68,
   "metadata": {},
   "outputs": [],
   "source": [
    "%matplotlib inline\n",
    "\n",
    "import numpy as np\n",
    "import matplotlib.pyplot as plt\n"
   ]
  },
  {
   "cell_type": "code",
   "execution_count": 69,
   "metadata": {},
   "outputs": [
    {
     "name": "stdout",
     "output_type": "stream",
     "text": [
      "Requirement already satisfied: torchtext in /Users/mariea/opt/anaconda3/lib/python3.9/site-packages (0.17.2)\n",
      "Requirement already satisfied: torch==2.2.2 in /Users/mariea/opt/anaconda3/lib/python3.9/site-packages (from torchtext) (2.2.2)\n",
      "Requirement already satisfied: numpy in /Users/mariea/opt/anaconda3/lib/python3.9/site-packages (from torchtext) (1.26.4)\n",
      "Requirement already satisfied: requests in /Users/mariea/opt/anaconda3/lib/python3.9/site-packages (from torchtext) (2.27.1)\n",
      "Requirement already satisfied: tqdm in /Users/mariea/opt/anaconda3/lib/python3.9/site-packages (from torchtext) (4.64.0)\n",
      "Requirement already satisfied: filelock in /Users/mariea/opt/anaconda3/lib/python3.9/site-packages (from torch==2.2.2->torchtext) (3.6.0)\n",
      "Requirement already satisfied: typing-extensions>=4.8.0 in /Users/mariea/opt/anaconda3/lib/python3.9/site-packages (from torch==2.2.2->torchtext) (4.12.2)\n",
      "Requirement already satisfied: sympy in /Users/mariea/opt/anaconda3/lib/python3.9/site-packages (from torch==2.2.2->torchtext) (1.10.1)\n",
      "Requirement already satisfied: networkx in /Users/mariea/opt/anaconda3/lib/python3.9/site-packages (from torch==2.2.2->torchtext) (2.7.1)\n",
      "Requirement already satisfied: jinja2 in /Users/mariea/opt/anaconda3/lib/python3.9/site-packages (from torch==2.2.2->torchtext) (2.11.3)\n",
      "Requirement already satisfied: fsspec in /Users/mariea/opt/anaconda3/lib/python3.9/site-packages (from torch==2.2.2->torchtext) (2022.2.0)\n",
      "Requirement already satisfied: MarkupSafe>=0.23 in /Users/mariea/opt/anaconda3/lib/python3.9/site-packages (from jinja2->torch==2.2.2->torchtext) (2.0.1)\n",
      "Requirement already satisfied: charset-normalizer~=2.0.0 in /Users/mariea/opt/anaconda3/lib/python3.9/site-packages (from requests->torchtext) (2.0.4)\n",
      "Requirement already satisfied: urllib3<1.27,>=1.21.1 in /Users/mariea/opt/anaconda3/lib/python3.9/site-packages (from requests->torchtext) (1.26.9)\n",
      "Requirement already satisfied: certifi>=2017.4.17 in /Users/mariea/opt/anaconda3/lib/python3.9/site-packages (from requests->torchtext) (2021.10.8)\n",
      "Requirement already satisfied: idna<4,>=2.5 in /Users/mariea/opt/anaconda3/lib/python3.9/site-packages (from requests->torchtext) (3.3)\n",
      "Requirement already satisfied: mpmath>=0.19 in /Users/mariea/opt/anaconda3/lib/python3.9/site-packages (from sympy->torch==2.2.2->torchtext) (1.2.1)\n",
      "Note: you may need to restart the kernel to use updated packages.\n"
     ]
    }
   ],
   "source": [
    "pip install torchtext"
   ]
  },
  {
   "cell_type": "code",
   "execution_count": 70,
   "metadata": {},
   "outputs": [],
   "source": [
    "%matplotlib inline\n",
    "\n",
    "import numpy as np\n",
    "import math\n",
    "import matplotlib.pyplot as plt\n",
    "import pandas as pd \n",
    "import seaborn as sns\n",
    "from typing import Iterable, List\n",
    "from timeit import default_timer as timer\n",
    "\n",
    "import torch\n",
    "import torch.nn as nn\n",
    "from torch.nn import Transformer\n",
    "from torch import Tensor\n",
    "\n",
    "from torchtext.data.utils import get_tokenizer\n",
    "from torchtext.vocab import build_vocab_from_iterator\n",
    "from torch.utils.data import DataLoader\n",
    "from torch.nn.utils.rnn import pad_sequence\n",
    "\n",
    "np.random.seed(0)\n",
    "torch.manual_seed(0)\n",
    "\n",
    "DEVICE = torch.device('cuda' if torch.cuda.is_available() else 'cpu')"
   ]
  },
  {
   "cell_type": "code",
   "execution_count": 73,
   "metadata": {},
   "outputs": [],
   "source": [
    "\n",
    "sns.set(style = 'white', font_scale = 2)"
   ]
  },
  {
   "cell_type": "code",
   "execution_count": 74,
   "metadata": {},
   "outputs": [],
   "source": [
    "with open(\"/Users/mariea/Desktop/Lab 7 Template/de_to_en.txt\", \"r\", encoding=\"utf-8\") as file:\n",
    "    lines = file.read().split(\"\\n\")\n",
    "\n",
    "text_pairs = []\n",
    "for letter in lines:\n",
    "    appendage = letter.split(\"\\t\")\n",
    "    text_pairs.append(appendage)"
   ]
  },
  {
   "cell_type": "code",
   "execution_count": 75,
   "metadata": {},
   "outputs": [
    {
     "name": "stdout",
     "output_type": "stream",
     "text": [
      "Zwei junge weiße Männer sind im Freien in der Nähe vieler Büsche. Two young, White males are outside near many bushes.\n",
      "Mehrere Männer mit Schutzhelmen bedienen ein Antriebsradsystem. Several men in hard hats are operating a giant pulley system.\n",
      "Ein kleines Mädchen klettert in ein Spielhaus aus Holz. A little girl climbing into a wooden playhouse.\n",
      "Ein Mann in einem blauen Hemd steht auf einer Leiter und putzt ein Fenster. A man in a blue shirt is standing on a ladder cleaning a window.\n",
      "Zwei Männer stehen am Herd und bereiten Essen zu. Two men are at the stove preparing food.\n",
      "Ein Mann in grün hält eine Gitarre, während der andere Mann sein Hemd ansieht. A man in green holds a guitar while the other man observes his shirt.\n",
      "Ein Mann lächelt einen ausgestopften Löwen an. A man is smiling at a stuffed lion\n",
      "Ein schickes Mädchen spricht mit dem Handy während sie langsam die Straße entlangschwebt. A trendy girl talking on her cellphone while gliding slowly down the street.\n",
      "Eine Frau mit einer großen Geldbörse geht an einem Tor vorbei. A woman with a large purse is walking by a gate.\n",
      "Jungen tanzen mitten in der Nacht auf Pfosten. Boys dancing on poles in the middle of the night.\n"
     ]
    }
   ],
   "source": [
    "\n",
    "for i in range(10): \n",
    "    print(text_pairs[i][0], text_pairs[i][1])"
   ]
  },
  {
   "cell_type": "code",
   "execution_count": 76,
   "metadata": {},
   "outputs": [
    {
     "name": "stdout",
     "output_type": "stream",
     "text": [
      "Requirement already satisfied: torchdata in /Users/mariea/opt/anaconda3/lib/python3.9/site-packages (0.7.1)\n",
      "Requirement already satisfied: urllib3>=1.25 in /Users/mariea/opt/anaconda3/lib/python3.9/site-packages (from torchdata) (1.26.9)\n",
      "Requirement already satisfied: requests in /Users/mariea/opt/anaconda3/lib/python3.9/site-packages (from torchdata) (2.27.1)\n",
      "Requirement already satisfied: torch>=2 in /Users/mariea/opt/anaconda3/lib/python3.9/site-packages (from torchdata) (2.2.2)\n",
      "Requirement already satisfied: filelock in /Users/mariea/opt/anaconda3/lib/python3.9/site-packages (from torch>=2->torchdata) (3.6.0)\n",
      "Requirement already satisfied: typing-extensions>=4.8.0 in /Users/mariea/opt/anaconda3/lib/python3.9/site-packages (from torch>=2->torchdata) (4.12.2)\n",
      "Requirement already satisfied: sympy in /Users/mariea/opt/anaconda3/lib/python3.9/site-packages (from torch>=2->torchdata) (1.10.1)\n",
      "Requirement already satisfied: networkx in /Users/mariea/opt/anaconda3/lib/python3.9/site-packages (from torch>=2->torchdata) (2.7.1)\n",
      "Requirement already satisfied: jinja2 in /Users/mariea/opt/anaconda3/lib/python3.9/site-packages (from torch>=2->torchdata) (2.11.3)\n",
      "Requirement already satisfied: fsspec in /Users/mariea/opt/anaconda3/lib/python3.9/site-packages (from torch>=2->torchdata) (2022.2.0)\n",
      "Requirement already satisfied: MarkupSafe>=0.23 in /Users/mariea/opt/anaconda3/lib/python3.9/site-packages (from jinja2->torch>=2->torchdata) (2.0.1)\n",
      "Requirement already satisfied: certifi>=2017.4.17 in /Users/mariea/opt/anaconda3/lib/python3.9/site-packages (from requests->torchdata) (2021.10.8)\n",
      "Requirement already satisfied: charset-normalizer~=2.0.0 in /Users/mariea/opt/anaconda3/lib/python3.9/site-packages (from requests->torchdata) (2.0.4)\n",
      "Requirement already satisfied: idna<4,>=2.5 in /Users/mariea/opt/anaconda3/lib/python3.9/site-packages (from requests->torchdata) (3.3)\n",
      "Requirement already satisfied: mpmath>=0.19 in /Users/mariea/opt/anaconda3/lib/python3.9/site-packages (from sympy->torch>=2->torchdata) (1.2.1)\n",
      "Note: you may need to restart the kernel to use updated packages.\n"
     ]
    }
   ],
   "source": [
    "pip install -U torchdata\n"
   ]
  },
  {
   "cell_type": "code",
   "execution_count": 77,
   "metadata": {},
   "outputs": [
    {
     "name": "stdout",
     "output_type": "stream",
     "text": [
      "Requirement already satisfied: spacy in /Users/mariea/opt/anaconda3/lib/python3.9/site-packages (3.7.5)\n",
      "Requirement already satisfied: typer<1.0.0,>=0.3.0 in /Users/mariea/opt/anaconda3/lib/python3.9/site-packages (from spacy) (0.12.3)\n",
      "Requirement already satisfied: cymem<2.1.0,>=2.0.2 in /Users/mariea/opt/anaconda3/lib/python3.9/site-packages (from spacy) (2.0.8)\n",
      "Requirement already satisfied: catalogue<2.1.0,>=2.0.6 in /Users/mariea/opt/anaconda3/lib/python3.9/site-packages (from spacy) (2.0.10)\n",
      "Requirement already satisfied: thinc<8.3.0,>=8.2.2 in /Users/mariea/opt/anaconda3/lib/python3.9/site-packages (from spacy) (8.2.5)\n",
      "Requirement already satisfied: srsly<3.0.0,>=2.4.3 in /Users/mariea/opt/anaconda3/lib/python3.9/site-packages (from spacy) (2.4.8)\n",
      "Requirement already satisfied: preshed<3.1.0,>=3.0.2 in /Users/mariea/opt/anaconda3/lib/python3.9/site-packages (from spacy) (3.0.9)\n",
      "Requirement already satisfied: packaging>=20.0 in /Users/mariea/opt/anaconda3/lib/python3.9/site-packages (from spacy) (21.3)\n",
      "Requirement already satisfied: langcodes<4.0.0,>=3.2.0 in /Users/mariea/opt/anaconda3/lib/python3.9/site-packages (from spacy) (3.4.0)\n",
      "Requirement already satisfied: setuptools in /Users/mariea/opt/anaconda3/lib/python3.9/site-packages (from spacy) (61.2.0)\n",
      "Requirement already satisfied: spacy-loggers<2.0.0,>=1.0.0 in /Users/mariea/opt/anaconda3/lib/python3.9/site-packages (from spacy) (1.0.5)\n",
      "Requirement already satisfied: murmurhash<1.1.0,>=0.28.0 in /Users/mariea/opt/anaconda3/lib/python3.9/site-packages (from spacy) (1.0.10)\n",
      "Requirement already satisfied: wasabi<1.2.0,>=0.9.1 in /Users/mariea/opt/anaconda3/lib/python3.9/site-packages (from spacy) (1.1.3)\n",
      "Requirement already satisfied: requests<3.0.0,>=2.13.0 in /Users/mariea/opt/anaconda3/lib/python3.9/site-packages (from spacy) (2.27.1)\n",
      "Requirement already satisfied: spacy-legacy<3.1.0,>=3.0.11 in /Users/mariea/opt/anaconda3/lib/python3.9/site-packages (from spacy) (3.0.12)\n",
      "Requirement already satisfied: weasel<0.5.0,>=0.1.0 in /Users/mariea/opt/anaconda3/lib/python3.9/site-packages (from spacy) (0.4.1)\n",
      "Requirement already satisfied: pydantic!=1.8,!=1.8.1,<3.0.0,>=1.7.4 in /Users/mariea/opt/anaconda3/lib/python3.9/site-packages (from spacy) (2.7.4)\n",
      "Requirement already satisfied: tqdm<5.0.0,>=4.38.0 in /Users/mariea/opt/anaconda3/lib/python3.9/site-packages (from spacy) (4.64.0)\n",
      "Requirement already satisfied: numpy>=1.19.0 in /Users/mariea/opt/anaconda3/lib/python3.9/site-packages (from spacy) (1.26.4)\n",
      "Requirement already satisfied: jinja2 in /Users/mariea/opt/anaconda3/lib/python3.9/site-packages (from spacy) (2.11.3)\n",
      "Requirement already satisfied: language-data>=1.2 in /Users/mariea/opt/anaconda3/lib/python3.9/site-packages (from langcodes<4.0.0,>=3.2.0->spacy) (1.2.0)\n",
      "Requirement already satisfied: marisa-trie>=0.7.7 in /Users/mariea/opt/anaconda3/lib/python3.9/site-packages (from language-data>=1.2->langcodes<4.0.0,>=3.2.0->spacy) (1.2.0)\n",
      "Requirement already satisfied: pyparsing!=3.0.5,>=2.0.2 in /Users/mariea/opt/anaconda3/lib/python3.9/site-packages (from packaging>=20.0->spacy) (3.0.4)\n",
      "Requirement already satisfied: typing-extensions>=4.6.1 in /Users/mariea/opt/anaconda3/lib/python3.9/site-packages (from pydantic!=1.8,!=1.8.1,<3.0.0,>=1.7.4->spacy) (4.12.2)\n",
      "Requirement already satisfied: pydantic-core==2.18.4 in /Users/mariea/opt/anaconda3/lib/python3.9/site-packages (from pydantic!=1.8,!=1.8.1,<3.0.0,>=1.7.4->spacy) (2.18.4)\n",
      "Requirement already satisfied: annotated-types>=0.4.0 in /Users/mariea/opt/anaconda3/lib/python3.9/site-packages (from pydantic!=1.8,!=1.8.1,<3.0.0,>=1.7.4->spacy) (0.7.0)\n",
      "Requirement already satisfied: certifi>=2017.4.17 in /Users/mariea/opt/anaconda3/lib/python3.9/site-packages (from requests<3.0.0,>=2.13.0->spacy) (2021.10.8)\n",
      "Requirement already satisfied: urllib3<1.27,>=1.21.1 in /Users/mariea/opt/anaconda3/lib/python3.9/site-packages (from requests<3.0.0,>=2.13.0->spacy) (1.26.9)\n",
      "Requirement already satisfied: charset-normalizer~=2.0.0 in /Users/mariea/opt/anaconda3/lib/python3.9/site-packages (from requests<3.0.0,>=2.13.0->spacy) (2.0.4)\n",
      "Requirement already satisfied: idna<4,>=2.5 in /Users/mariea/opt/anaconda3/lib/python3.9/site-packages (from requests<3.0.0,>=2.13.0->spacy) (3.3)\n",
      "Requirement already satisfied: blis<0.8.0,>=0.7.8 in /Users/mariea/opt/anaconda3/lib/python3.9/site-packages (from thinc<8.3.0,>=8.2.2->spacy) (0.7.11)\n",
      "Requirement already satisfied: confection<1.0.0,>=0.0.1 in /Users/mariea/opt/anaconda3/lib/python3.9/site-packages (from thinc<8.3.0,>=8.2.2->spacy) (0.1.5)\n",
      "Requirement already satisfied: click>=8.0.0 in /Users/mariea/opt/anaconda3/lib/python3.9/site-packages (from typer<1.0.0,>=0.3.0->spacy) (8.0.4)\n",
      "Requirement already satisfied: rich>=10.11.0 in /Users/mariea/opt/anaconda3/lib/python3.9/site-packages (from typer<1.0.0,>=0.3.0->spacy) (13.7.1)\n",
      "Requirement already satisfied: shellingham>=1.3.0 in /Users/mariea/opt/anaconda3/lib/python3.9/site-packages (from typer<1.0.0,>=0.3.0->spacy) (1.5.4)\n",
      "Requirement already satisfied: pygments<3.0.0,>=2.13.0 in /Users/mariea/opt/anaconda3/lib/python3.9/site-packages (from rich>=10.11.0->typer<1.0.0,>=0.3.0->spacy) (2.18.0)\n",
      "Requirement already satisfied: markdown-it-py>=2.2.0 in /Users/mariea/opt/anaconda3/lib/python3.9/site-packages (from rich>=10.11.0->typer<1.0.0,>=0.3.0->spacy) (3.0.0)\n",
      "Requirement already satisfied: mdurl~=0.1 in /Users/mariea/opt/anaconda3/lib/python3.9/site-packages (from markdown-it-py>=2.2.0->rich>=10.11.0->typer<1.0.0,>=0.3.0->spacy) (0.1.2)\n",
      "Requirement already satisfied: smart-open<8.0.0,>=5.2.1 in /Users/mariea/opt/anaconda3/lib/python3.9/site-packages (from weasel<0.5.0,>=0.1.0->spacy) (7.0.4)\n",
      "Requirement already satisfied: cloudpathlib<1.0.0,>=0.7.0 in /Users/mariea/opt/anaconda3/lib/python3.9/site-packages (from weasel<0.5.0,>=0.1.0->spacy) (0.18.1)\n",
      "Requirement already satisfied: wrapt in /Users/mariea/opt/anaconda3/lib/python3.9/site-packages (from smart-open<8.0.0,>=5.2.1->weasel<0.5.0,>=0.1.0->spacy) (1.12.1)\n",
      "Requirement already satisfied: MarkupSafe>=0.23 in /Users/mariea/opt/anaconda3/lib/python3.9/site-packages (from jinja2->spacy) (2.0.1)\n",
      "Note: you may need to restart the kernel to use updated packages.\n"
     ]
    }
   ],
   "source": [
    "pip install -U spacy"
   ]
  },
  {
   "cell_type": "code",
   "execution_count": 78,
   "metadata": {},
   "outputs": [],
   "source": [
    "\n",
    "Source_langauge = 'de'\n",
    "Target_langauge = 'en'\n",
    "\n",
    "\n",
    "\n",
    "en_token_transform = get_tokenizer('spacy', language='en_core_web_sm')\n",
    "de_token_transform = get_tokenizer('spacy', language='de_core_news_sm')\n"
   ]
  },
  {
   "cell_type": "code",
   "execution_count": 79,
   "metadata": {},
   "outputs": [
    {
     "name": "stdout",
     "output_type": "stream",
     "text": [
      "['Two', 'young', ',', 'White', 'males', 'are', 'outside', 'near', 'many', 'bushes', '.']\n",
      "['Zwei', 'junge', 'weiße', 'Männer', 'sind', 'i', 'm', 'Freien', 'in', 'der', 'Nähe', 'vieler', 'Büsche', '.']\n"
     ]
    }
   ],
   "source": [
    "\n",
    "token_transform = {}\n",
    "token_transform[Source_langauge] = de_token_transform\n",
    "token_transform[Target_langauge] = en_token_transform\n",
    "\n",
    "\n",
    "de_0_tokenized = token_transform[Source_langauge](text_pairs[0][1]) \n",
    "en_0_tokenized = token_transform[Target_langauge](text_pairs[0][0]) \n",
    "\n",
    "\n",
    "print(de_0_tokenized) \n",
    "print(en_0_tokenized)"
   ]
  },
  {
   "cell_type": "code",
   "execution_count": 80,
   "metadata": {},
   "outputs": [
    {
     "name": "stdout",
     "output_type": "stream",
     "text": [
      "['<unk>', '<pad>', '<bos>', '<eos>', '.', 'Ein', 'einem', 'in', 'und', ',', 'mit', 'auf', 'Mann', 'einer', 'Eine', 'ein', 'der', 'Frau', 'eine', 'die']\n",
      "['<unk>', '<pad>', '<bos>', '<eos>', 'a', '.', 'A', 'in', 'the', 'on', 'is', 'and', 'man', 'of', 'with', ',', 'woman', 'are', 'to', 'Two']\n"
     ]
    }
   ],
   "source": [
    "\n",
    "def yield_tokens(data_iter: Iterable, language: str) -> list[str]:\n",
    "    language_index = {Source_langauge: 0, Target_langauge: 1}\n",
    "    for data in data_iter:\n",
    "        yield token_transform[language](data[language_index[language]])\n",
    "\n",
    "\n",
    "unk_idx = 0\n",
    "pad_idx = 1\n",
    "bos_idx = 2\n",
    "eos_idx = 3\n",
    "special_tokens = ['<unk>', '<pad>', '<bos>', '<eos>']\n",
    "\n",
    "vocab_transform = {}\n",
    "for ln in [Source_langauge, Target_langauge]:\n",
    "    vocab_transform[ln] = build_vocab_from_iterator(yield_tokens(text_pairs, ln),\n",
    "                                                    min_freq=1,\n",
    "                                                    specials=special_tokens,\n",
    "                                                    special_first=True)\n",
    "\n",
    "\n",
    "for ln in [Source_langauge, Target_langauge]:\n",
    "    vocab_transform[ln].set_default_index(unk_idx)\n",
    "\n",
    "\n",
    "print(vocab_transform[Source_langauge].get_itos()[:20])\n",
    "print(vocab_transform[Target_langauge].get_itos()[:20])"
   ]
  },
  {
   "attachments": {},
   "cell_type": "markdown",
   "metadata": {},
   "source": [
    "## Train-Validate-Test split"
   ]
  },
  {
   "cell_type": "code",
   "execution_count": 81,
   "metadata": {},
   "outputs": [
    {
     "name": "stdout",
     "output_type": "stream",
     "text": [
      "31019 total pairs\n",
      "24815 training pairs\n",
      "3101 validation pairs\n",
      "3103 test pairs\n"
     ]
    }
   ],
   "source": [
    "\n",
    "shuffle = np.random.permutation(len(text_pairs))\n",
    "text_pairs = [text_pairs[i] for i in shuffle]\n",
    "\n",
    "\n",
    "n_train = int(0.8*len(text_pairs))\n",
    "train_pairs = text_pairs[:n_train] \n",
    "\n",
    "n_val = int(0.1*len(text_pairs))\n",
    "val_pairs = text_pairs[n_train:n_train+n_val]\n",
    "\n",
    "n_test = int(0.1*len(text_pairs))\n",
    "test_pairs = text_pairs[n_train+n_val:]\n",
    "\n",
    "\n",
    "print(len(text_pairs), \"total pairs\")\n",
    "print(len(train_pairs), \"training pairs\")\n",
    "print(len(val_pairs), \"validation pairs\")\n",
    "print(len(test_pairs), \"test pairs\")\n"
   ]
  },
  {
   "cell_type": "code",
   "execution_count": 82,
   "metadata": {},
   "outputs": [],
   "source": [
    "\n",
    "def gen_mask(size):\n",
    "    mask = (torch.triu(torch.ones((size, size), device=DEVICE)) == 1).transpose(0,1)\n",
    "    mask = mask.float().masked_fill(mask == 0, float('-inf')).masked_fill(mask == 1, float(0.0))\n",
    "    return mask\n",
    "def create_mask(source, target):\n",
    "    src_seq_len = source.shape[0]\n",
    "    target_seq_len = target.shape[0]\n",
    "    target_mask = gen_mask(target_seq_len)\n",
    "    src_mask = torch.zeros((src_seq_len, src_seq_len),device=DEVICE).type(torch.bool)\n",
    "\n",
    "    src_padding_mask = (source == pad_idx).transpose(0, 1)\n",
    "    target_padding_mask = (target == pad_idx).transpose(0, 1)\n",
    "    return src_mask, target_mask, src_padding_mask, target_padding_mask"
   ]
  },
  {
   "cell_type": "code",
   "execution_count": 83,
   "metadata": {},
   "outputs": [],
   "source": [
    "\n",
    "def sequential_transforms(*transforms): \n",
    "    def toegther(txt_input):\n",
    "        for transform in transforms:\n",
    "            txt_input = transform(txt_input)\n",
    "        return txt_input\n",
    "    return toegther\n",
    "\n",
    "\n",
    "def tens_transform(token_id):\n",
    "    return torch.cat((torch.Tensor(bos_idx), torch.Tensor(token_id), torch.Tensor(eos_idx)))\n",
    "\n",
    "text_transform = {}\n",
    "for ln in [Source_langauge, Target_langauge]:\n",
    "    text_transform[ln] = sequential_transforms(token_transform[ln], vocab_transform[ln], tens_transform) \n",
    "def collate_fn(batch):\n",
    "    src_batch, tgt_batch = [], []\n",
    "    for src_sample, tgt_sample in batch:\n",
    "        src_batch.append(text_transform[Source_langauge](src_sample.rstrip(\"\\n\")))\n",
    "        tgt_batch.append(text_transform[Target_langauge](tgt_sample.rstrip(\"\\n\")))\n",
    "\n",
    "    src_batch = pad_sequence(src_batch, padding_value=pad_idx)\n",
    "    tgt_batch = pad_sequence(tgt_batch, padding_value=pad_idx)\n",
    "    return src_batch, tgt_batch"
   ]
  },
  {
   "cell_type": "code",
   "execution_count": 84,
   "metadata": {},
   "outputs": [],
   "source": [
    "\n",
    "def train_epoch(model, optimizer):\n",
    "    model.train()\n",
    "    loss_list = []\n",
    "    train_iter = train_pairs\n",
    "    train_dataloader = DataLoader(train_iter, batch_size=batch_size, collate_fn=collate_fn)\n",
    "\n",
    "    for src, tgt in train_dataloader:\n",
    "        src = src.to(DEVICE)\n",
    "        tgt = tgt.to(DEVICE)\n",
    "\n",
    "        tgt_input = tgt[:-1, :]\n",
    "        src_mask, tgt_mask, src_padding_mask, tgt_padding_mask = create_mask(src, tgt_input)\n",
    "\n",
    "        logits = model(src, tgt_input, src_mask, tgt_mask,src_padding_mask, tgt_padding_mask, src_padding_mask)\n",
    "\n",
    "        optimizer.zero_grad()\n",
    "\n",
    "        tgt_out = tgt[1:, :].long()\n",
    "        loss = loss_fn(logits.reshape(-1, logits.shape[-1]), tgt_out.reshape(-1))\n",
    "        loss.backward()\n",
    "\n",
    "        optimizer.step()\n",
    "        loss_list.append(loss.item())\n",
    "\n",
    "    return loss_list\n",
    "\n",
    "def evaluate(model):\n",
    "    model.eval()\n",
    "    loss_list = []\n",
    "\n",
    "    val_iter = val_pairs\n",
    "    val_dataloader = DataLoader(val_iter, batch_size=batch_size, collate_fn=collate_fn)\n",
    "\n",
    "    for src, tgt in val_dataloader:\n",
    "        src = src.to(DEVICE)\n",
    "        tgt = tgt.to(DEVICE)\n",
    "\n",
    "        tgt_input = tgt[:-1, :]\n",
    "\n",
    "        src_mask, tgt_mask, src_padding_mask, tgt_padding_mask = create_mask(src, tgt_input)\n",
    "\n",
    "        logits = model(src, tgt_input, src_mask, tgt_mask,src_padding_mask, tgt_padding_mask, src_padding_mask)\n",
    "\n",
    "        tgt_out = tgt[1:, :].long()\n",
    "        loss = loss_fn(logits.reshape(-1, logits.shape[-1]), tgt_out.reshape(-1))\n",
    "        loss_list.append(loss.item())\n",
    "\n",
    "    return loss_list"
   ]
  },
  {
   "cell_type": "code",
   "execution_count": 85,
   "metadata": {},
   "outputs": [],
   "source": [
    "\n",
    "class PositionalEncoding(nn.Module): \n",
    "    def __init__(self, emb_size, dropout, maxlen = 5000):\n",
    "        super(PositionalEncoding, self).__init__()\n",
    "        den = torch.exp(- torch.arange(0, emb_size, 2)* math.log(10000) / emb_size)\n",
    "        pos = torch.arange(0, maxlen).reshape(maxlen, 1)\n",
    "        pos_embedding = torch.zeros((maxlen, emb_size))\n",
    "        pos_embedding[:, 0::2] = torch.sin(pos * den)\n",
    "        pos_embedding[:, 1::2] = torch.cos(pos * den)\n",
    "        pos_embedding = pos_embedding.unsqueeze(-2)\n",
    "\n",
    "        self.dropout = nn.Dropout(dropout)\n",
    "        self.register_buffer('pos_embedding', pos_embedding)\n",
    "\n",
    "    def forward(self, token_embedding: Tensor):\n",
    "        return self.dropout(token_embedding + self.pos_embedding[:token_embedding.size(0), :])\n",
    "\n",
    "class TokenEmbedding(nn.Module):\n",
    "    def __init__(self, vocab_size, emb_size):\n",
    "        super(TokenEmbedding, self).__init__()\n",
    "        self.embedding = nn.Embedding(vocab_size, emb_size)\n",
    "        self.emb_size = emb_size\n",
    "\n",
    "    def forward(self, tokens: Tensor):\n",
    "        return self.embedding(tokens.long()) * math.sqrt(self.emb_size)\n",
    "\n",
    "\n",
    "class Seq2SeqTransformer(nn.Module): \n",
    "    def __init__(self,num_encoder_layers,num_decoder_layers,embedding_size,num_heads,src_vocab_size,tgt_vocab_size,dim_feedforward = 512,dropout = 0.15):\n",
    "        super(Seq2SeqTransformer, self).__init__()\n",
    "        self.transformer = Transformer(d_model=embedding_size,nhead=num_heads,num_encoder_layers=num_encoder_layers,num_decoder_layers=num_decoder_layers,dim_feedforward=dim_feedforward,dropout=dropout)\n",
    "        self.generator = nn.Linear(embedding_size, tgt_vocab_size)\n",
    "        self.src_tok_emb = TokenEmbedding(src_vocab_size, embedding_size)\n",
    "        self.tgt_tok_emb = TokenEmbedding(tgt_vocab_size, embedding_size)\n",
    "        self.positional_encoding = PositionalEncoding(embedding_size, dropout=dropout)\n",
    "\n",
    "    def forward(self,src,trg,src_mask,tgt_mask,src_padding_mask,tgt_padding_mask,memory_key_padding_mask):\n",
    "        src_emb = self.positional_encoding(self.src_tok_emb(src))\n",
    "        tgt_emb = self.positional_encoding(self.tgt_tok_emb(trg)) \n",
    "        outs = self.transformer(src_emb, tgt_emb, src_mask, tgt_mask, None, \n",
    "                                src_padding_mask, tgt_padding_mask, memory_key_padding_mask)\n",
    "        return self.generator(outs)\n",
    "\n",
    "    def encode(self, src: Tensor, src_mask: Tensor):\n",
    "        return self.transformer.encoder(self.positional_encoding(self.src_tok_emb(src)), src_mask)\n",
    "\n",
    "    def decode(self, tgt: Tensor, memory: Tensor, tgt_mask: Tensor):\n",
    "        return self.transformer.decoder(self.positional_encoding(self.tgt_tok_emb(tgt)), memory,tgt_mask)"
   ]
  },
  {
   "cell_type": "code",
   "execution_count": 86,
   "metadata": {},
   "outputs": [],
   "source": [
    "\n",
    "source_target_size = len(vocab_transform[Source_langauge]) \n",
    "target_vocab_size = len(vocab_transform[Target_langauge])\n",
    "embed_size = 512\n",
    "num_head = 8 #MAKE BIGGER IF GPU AVAILIBLE\n",
    "ffn_hidden_dim = 512 \n",
    "batch_size = 32\n",
    "num_encode_layers = 3 #MAKE BIG IF GET GPU\n",
    "num_decode_layers = 3\n",
    "num_epochs = 5\n",
    "\n",
    "\n",
    "\n",
    "transformer = Seq2SeqTransformer(num_encode_layers, num_decode_layers, embed_size,num_head, source_target_size, target_vocab_size, ffn_hidden_dim)\n",
    "\n",
    "for p in transformer.parameters():\n",
    "    if p.dim() > 1:\n",
    "        nn.init.xavier_uniform_(p)\n",
    "\n",
    "transformer = transformer.to(DEVICE)\n",
    "\n",
    "loss_fn = torch.nn.CrossEntropyLoss(ignore_index=pad_idx)\n",
    "learning_rate = 0.0003\n",
    "\n",
    "optimizer = torch.optim.Adam(transformer.parameters(), lr=learning_rate, betas=(0.9, 0.98), eps=1e-9)"
   ]
  },
  {
   "cell_type": "code",
   "execution_count": 87,
   "metadata": {},
   "outputs": [],
   "source": [
    "#NOTE: DO NT MAKE THESE TENSORS, YOU'LL END UP GETTING POSITIONS WRONG\n",
    "train_loss_list = []\n",
    "val_loss_list = []"
   ]
  },
  {
   "attachments": {},
   "cell_type": "markdown",
   "metadata": {},
   "source": [
    "## Train the model"
   ]
  },
  {
   "cell_type": "code",
   "execution_count": 88,
   "metadata": {},
   "outputs": [
    {
     "name": "stdout",
     "output_type": "stream",
     "text": [
      "Epoch: 0, Epoch time = 794.590s\n",
      "Epoch: 1, Epoch time = 873.900s\n",
      "Epoch: 2, Epoch time = 852.422s\n",
      "Epoch: 3, Epoch time = 902.069s\n",
      "Epoch: 4, Epoch time = 865.102s\n"
     ]
    }
   ],
   "source": [
    "\n",
    "for epoch in range(0, num_epochs):\n",
    "    start_time = timer()\n",
    "    train_loss = train_epoch(transformer, optimizer)\n",
    "    train_loss_list.extend(train_loss)\n",
    "    end_time = timer()\n",
    "    val_loss = evaluate(transformer)\n",
    "    val_loss_list.extend(val_loss)\n",
    "    print((f\"Epoch: {epoch}, Epoch time = {(end_time - start_time):.3f}s\"))\n"
   ]
  },
  {
   "cell_type": "code",
   "execution_count": 90,
   "metadata": {},
   "outputs": [
    {
     "name": "stderr",
     "output_type": "stream",
     "text": [
      "No artists with labels found to put in legend.  Note that artists whose label start with an underscore are ignored when legend() is called with no argument.\n"
     ]
    },
    {
     "data": {
      "image/png": "[encoded data removed]",
      "text/plain": [
       "<Figure size 864x504 with 1 Axes>"
      ]
     },
     "metadata": {},
     "output_type": "display_data"
    }
   ],
   "source": [
    "\n",
    "plt.figure(figsize = (12, 7))\n",
    "\n",
    "plt.scatter(range(len(train_loss_list)), train_loss_list, color = 'blue', linewidth = 3, alpha=0.1)\n",
    "plt.ylabel(\"Training Loss\")\n",
    "plt.xlabel(\"Epoch\")\n",
    "plt.xticks(ticks = [(i+1)*len(train_loss_list)//num_epochs for i in range(num_epochs)], labels=[f\"{i+1}\" for i in range(num_epochs)])\n",
    "plt.legend()\n",
    "sns.despine()"
   ]
  },
  {
   "cell_type": "code",
   "execution_count": 95,
   "metadata": {},
   "outputs": [],
   "source": [
    "\n",
    "def greedy_decode(model, src, src_mask, max_len, start_symbol):\n",
    "    src = src.to(DEVICE)\n",
    "    src_mask = src_mask.to(DEVICE)\n",
    "\n",
    "    memory = model.encode(src, src_mask)\n",
    "    ys = torch.ones(1, 1).fill_(start_symbol).type(torch.long).to(DEVICE)\n",
    "    for i in range(max_len-1):\n",
    "        memory = memory.to(DEVICE)\n",
    "        tgt_mask = (gen_mask(ys.size(0))\n",
    "                    .type(torch.bool)).to(DEVICE)\n",
    "        out = model.decode(ys, memory, tgt_mask)\n",
    "        out = out.transpose(0, 1)\n",
    "        prob = model.generator(out[:, -1])\n",
    "        _, next_word = torch.max(prob, dim=1)\n",
    "        next_word = next_word.item()\n",
    "\n",
    "        ys = torch.cat([ys,\n",
    "                        torch.ones(1, 1).type_as(src.data).fill_(next_word)], dim=0)\n",
    "        if next_word == eos_idx:\n",
    "            break\n",
    "    return ys\n",
    "\n",
    "\n",
    "def translate(model, src_sentence):\n",
    "    model.eval()\n",
    "    src = text_transform[Source_langauge](src_sentence).view(-1, 1)\n",
    "    num_tokens = src.shape[0]\n",
    "    src_mask = (torch.zeros(num_tokens, num_tokens)).type(torch.bool)\n",
    "    tgt_tokens = greedy_decode(\n",
    "        model,  src, src_mask, max_len=num_tokens + 5, start_symbol=bos_idx).flatten()\n",
    "    return \" \".join(vocab_transform[Target_langauge].lookup_tokens(list(tgt_tokens.cpu().numpy()))).replace(\"<bos>\", \"\").replace(\"<eos>\", \"\").replace(\"<unk>\", \"\")\n"
   ]
  },
  {
   "cell_type": "code",
   "execution_count": 96,
   "metadata": {},
   "outputs": [
    {
     "name": "stdout",
     "output_type": "stream",
     "text": [
      "Target: A group of faithful shoppers bear the cold while one points to his favorite store.\n",
      "Model output:   A group of musicians are gathered around his instruments while a third takes a break .       \n",
      "\n",
      "Target: I think the construction work is going on here.\n",
      "Model output:    An adult is about to work .        \n",
      "\n",
      "Target: A motorcyclist speeding along a road on a green Kawasaki sport motorcycle.\n",
      "Model output:   A motorcycle rider with a green balloon painted over green and white blanket .      \n",
      "\n",
      "Target: Skater boy does a trick and gets his photo taken in midair.\n",
      "Model output:    A soccer player is doing a trick trick while doing a trick .     \n",
      "\n",
      "Target: People rock climbing and hiking near a lake.\n",
      "Model output:    A rock climbing near a lake .         \n",
      "\n",
      "Target: A man and woman are in the kitchen and a package of Challenge butter is in the foreground.\n",
      "Model output:   A man and woman in the kitchen with a wooden van in the foreground .         \n",
      "\n",
      "Target: A white man is seen in a swimming pool floating above many floating devises.\n",
      "Model output:   A dark - haired man swimming in a pool filled with large wooden - colored jacket .  \n",
      "\n",
      "Target: A streetlight lit bridge with a cyclist and some cars.\n",
      "Model output:   A motocross rider with a bike and a few cars .        \n",
      "\n",
      "Target: People running a race and the guy in gray is in the lead.\n",
      "Model output:   People are running and playing in gray .          \n",
      "\n",
      "Target: Snowboarder wearing an orange jacket and carrying a sky-blue bag snowboards toward a previously traveled trail.\n",
      "Model output:   A snowboarder wearing orange jacket and a tan jacket is carrying a wooden bag of metal .          \n",
      "\n"
     ]
    }
   ],
   "source": [
    "for i in range(10):\n",
    "    test_pair = test_pairs[-i]\n",
    "    test_str_de = test_pair[0]\n",
    "    test_str_en = test_pair[1]\n",
    "    print(f\"Target: {test_str_en}\")\n",
    "    print(\"Model output:\", translate(transformer, test_str_de))\n",
    "    print(\"\")\n",
    "\n",
    "#NEEDS MORE ATTENTION HEADS SO COMPLEXITY CAN BE FOUND, WILL DECREASE MODEL TRAINING SPEED BY A LOT"
   ]
  }
 ],
 "metadata": {
  "kernelspec": {
   "display_name": "Python 3",
   "language": "python",
   "name": "python3"
  },
  "language_info": {
   "codemirror_mode": {
    "name": "ipython",
    "version": 3
   },
   "file_extension": ".py",
   "mimetype": "text/x-python",
   "name": "python",
   "nbconvert_exporter": "python",
   "pygments_lexer": "ipython3",
   "version": "3.9.12"
  },
  "orig_nbformat": 4
 },
 "nbformat": 4,
 "nbformat_minor": 2
}
